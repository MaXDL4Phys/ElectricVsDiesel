{
 "cells": [
  {
   "cell_type": "code",
   "execution_count": 55,
   "outputs": [],
   "source": [
    "import pandas as pd\n",
    "import numpy as np\n",
    "import matplotlib as plt"
   ],
   "metadata": {
    "collapsed": false,
    "pycharm": {
     "name": "#%%\n"
    }
   }
  },
  {
   "cell_type": "markdown",
   "source": [
    "# Analysis of Diesel adn Electric mobility in Italy\n",
    "\n",
    "## Data\n",
    "\n",
    "* Numero autoveicoli: (https://unrae.it/pubblicazioni/book-statistiche-annuali/5743/unrae-book-2021)[https://unrae.it/pubblicazioni/book-statistiche-annuali/5743/unrae-book-2021]\n",
    "    * $\\approx 17$ 17.250.000\n",
    "* Kilometri percorsi: (https://www.unipolsai.com/sites/corporate/files/pages_related_documents/cs_osservatorio-unipolsai-2018.pdf)[https://www.unipolsai.com/sites/corporate/files/pages_related_documents/cs_osservatorio-unipolsai-2018.pdf]\n",
    "    * Average use in Italy\n",
    "    | Days of use |  km/day | km/year |\n",
    "    |----------|:-------------:|------:|\n",
    "\n",
    "        * Media Italia 287 43 12.240\n",
    "                *\n",
    "| Syntax      | Description | Test Text     |\n",
    "| :---        |    :----:   |          ---: |\n",
    "| Header      | Title       | Here's this   |\n",
    "| Paragraph   | Text        | And more      |\n",
    "* Consumi: (https://www.repubblica.it/motori/info-utile/euro0-a-euro4/consumi-auto-index.html)[https://www.repubblica.it/motori/info-utile/euro0-a-euro4/consumi-auto-index.html].\n",
    "    *\n",
    "\n",
    "\n",
    "## Data:"
   ],
   "metadata": {
    "collapsed": false,
    "pycharm": {
     "name": "#%% md\n"
    }
   }
  },
  {
   "cell_type": "code",
   "execution_count": 80,
   "outputs": [],
   "source": [
    "# Computing of consumption km/l\n",
    "data = pd.read_csv (r'Consumi_auto_repubblica_data.csv')\n",
    "# print (data.shape)\n",
    "# data.head()\n",
    "# data.keys()"
   ],
   "metadata": {
    "collapsed": false,
    "pycharm": {
     "name": "#%%\n"
    }
   }
  },
  {
   "cell_type": "code",
   "execution_count": 108,
   "outputs": [
    {
     "name": "stdout",
     "output_type": "stream",
     "text": [
      "8.30e+00 l/100km\n",
      "12.055 km/l\n"
     ]
    }
   ],
   "source": [
    "df = pd.DataFrame(data, columns= ['Consumo reale (litri per 100 Km)'])\n",
    "df['Consumo reale (litri per 100 Km)'] = df['Consumo reale (litri per 100 Km)'].str.replace(',','.')\n",
    "df['Consumo reale (litri per 100 Km)'] = df['Consumo reale (litri per 100 Km)'].str.replace('l','')\n",
    "df.tail()\n",
    "df['Consumo reale (litri per 100 Km)'] = df['Consumo reale (litri per 100 Km)'].astype(float)\n",
    "# print(df.dtypes)\n",
    "Consum_mean = df['Consumo reale (litri per 100 Km)'].mean()\n",
    "print(f\"{Consum_mean:.2e}\", 'l/100km')\n",
    "km_l = np.around(100/Consum_mean, 3)\n",
    "print(km_l, 'km/l')"
   ],
   "metadata": {
    "collapsed": false,
    "pycharm": {
     "name": "#%%\n"
    }
   }
  },
  {
   "cell_type": "code",
   "execution_count": 111,
   "outputs": [
    {
     "name": "stdout",
     "output_type": "stream",
     "text": [
      "2.111400e+11\n",
      "1.21e+01\n",
      "0.0829531314807134\n"
     ]
    }
   ],
   "source": [
    "# data\n",
    "n_veic_diesel = 17.25e6\n",
    "km_year_car= 12240.0\n",
    "Tot_km = n_veic_diesel * km_year_car\n",
    "print(f'{Tot_km:3e}')\n",
    "km_l = np.around(km_l, 3)\n",
    "print(f'{km_l:.2e}')\n",
    "l_km = 1 / km_l\n",
    "print(l_km)"
   ],
   "metadata": {
    "collapsed": false,
    "pycharm": {
     "name": "#%%\n"
    }
   }
  },
  {
   "cell_type": "markdown",
   "source": [
    "## Computing of the total of diesel fuel for the mobility in one yar in Italy\n",
    "\n",
    "Total = Number of diesel auto X km/year X l/km"
   ],
   "metadata": {
    "collapsed": false,
    "pycharm": {
     "name": "#%% md\n"
    }
   }
  },
  {
   "cell_type": "code",
   "execution_count": 113,
   "outputs": [
    {
     "name": "stdout",
     "output_type": "stream",
     "text": [
      "1.751e+10 l/year\n"
     ]
    }
   ],
   "source": [
    "Tot_fuel_consumption =np.around(Tot_km * l_km, 3)\n",
    "print(f'{Tot_fuel_consumption:.3e}', \"l/year\")"
   ],
   "metadata": {
    "collapsed": false,
    "pycharm": {
     "name": "#%%\n"
    }
   }
  },
  {
   "cell_type": "markdown",
   "source": [
    "## How mach fuel we need to transport that amount of fule?\n",
    "we need truck.\n",
    "* Average Size of tanker: 40000 l\n",
    "How many truck do we need to transport thet total amount of fule neede:\n",
    "*  Total of fuel/average size of tanker"
   ],
   "metadata": {
    "collapsed": false,
    "pycharm": {
     "name": "#%% md\n"
    }
   }
  },
  {
   "cell_type": "code",
   "execution_count": 85,
   "outputs": [
    {
     "name": "stdout",
     "output_type": "stream",
     "text": [
      "437868.0 truck transport per year\n"
     ]
    }
   ],
   "source": [
    "# number of truck per year\n",
    "Avg_Tank = 4e4\n",
    "Truck_year = np.around(Tot_fuel_consumption/Avg_Tank)\n",
    "print(Truck_year, 'truck transport per year')"
   ],
   "metadata": {
    "collapsed": false,
    "pycharm": {
     "name": "#%%\n"
    }
   }
  },
  {
   "cell_type": "markdown",
   "source": [
    "## How many kms they travel in one year?\n",
    "We need to do a hypothesis about the average distance that a truck need to do from the refinery to the distributors.\n",
    "I think due to specific of Italy and the location to the coast of the arrival of oil supply chain, is a reasonable assumption 200km. Maybe I'm wrong, but I think that 100km is too few and 300 if too much.\n",
    "To figure out the amount of km traveled for the track transport of fuel we need to multiply\n",
    "Tot of km of thanker = total of thanker fuel transport X average number of Km\n",
    "\n",
    "## How much fuel do we need for these travles?\n",
    "A truck can use 35l of fuel (diesel) for 100 km\n",
    "We need to know the total amount of fuel needed.\n"
   ],
   "metadata": {
    "collapsed": false,
    "pycharm": {
     "name": "#%% md\n"
    }
   }
  },
  {
   "cell_type": "code",
   "execution_count": 115,
   "outputs": [
    {
     "name": "stdout",
     "output_type": "stream",
     "text": [
      "Total km = 8.757360e+07 km\n",
      "2.860000e+00 km/l\n",
      "3.062014e+07 l/year\n",
      "0.0017\n",
      "Total diesel fuel consumption for auotmotive:  3.502945e+10  l\n"
     ]
    }
   ],
   "source": [
    "Avg_Tank_km = 200\n",
    "Tot_km_tanker = Truck_year * Avg_Tank_km\n",
    "print('Total km =', f'{Tot_km_tanker:3e}','km')\n",
    "Tank_consumption_100km = 35\n",
    "Tank_consumption = 35 / 100\n",
    "Tank_km_l = np.around(100/Tank_consumption_100km, 2)\n",
    "print( f'{Tank_km_l:3e}', 'km/l')\n",
    "Tank_l_km = 1 / Tank_km_l\n",
    "# compute the total of fuel we need\n",
    "Tot_fuel_for_transport =np.around( Tot_km_tanker * Tank_l_km, 2)\n",
    "print( f'{Tot_fuel_for_transport:3e}', 'l/year')\n",
    "\n",
    "Frac_trasp_tot = np.around( Tot_fuel_for_transport / Tot_fuel_consumption, 4)\n",
    "print(Frac_trasp_tot)\n",
    "Tot_fuel = Tot_fuel_consumption + Tot_fuel_consumption\n",
    "print( \"Total diesel fuel consumption for vehicle: \", f'{Tot_fuel:2e}', ' l')"
   ],
   "metadata": {
    "collapsed": false,
    "pycharm": {
     "name": "#%%\n"
    }
   }
  },
  {
   "cell_type": "markdown",
   "source": [
    "# amount of fuel for power plant\n",
    "\n"
   ],
   "metadata": {
    "collapsed": false,
    "pycharm": {
     "name": "#%% md\n"
    }
   }
  },
  {
   "cell_type": "code",
   "execution_count": 93,
   "outputs": [
    {
     "name": "stdout",
     "output_type": "stream",
     "text": [
      "15.5\n",
      "0.155 khW/km\n",
      "Total of energy equivalent = 32726700.0 MWh\n"
     ]
    }
   ],
   "source": [
    "consum_avg_veic_km_100KWh = (13 + 18)/2\n",
    "print(consum_avg_veic_km_100KWh)\n",
    "kWh_km = consum_avg_veic_km_100KWh / 100\n",
    "print(kWh_km, 'khW/km')\n",
    "\n",
    "# total KWh needed =  Total km/ km_kWh\n",
    "Total_kWh = np.around( Tot_km * kWh_km, 2)\n",
    "Total_MWh = Total_kWh / 1000\n",
    "print('Total of energy equivalent =',  f'{Total_MWh:3e}', 'MWh')\n"
   ],
   "metadata": {
    "collapsed": false,
    "pycharm": {
     "name": "#%%\n"
    }
   }
  },
  {
   "cell_type": "code",
   "execution_count": 117,
   "outputs": [
    {
     "name": "stdout",
     "output_type": "stream",
     "text": [
      "Total of diesel fuel needed for power plant to generate all the energy for electric vehicle: 7.527141e+09 l\n"
     ]
    }
   ],
   "source": [
    "# amount of fuel needd\n",
    "pp_consumption = 230 #l/MWh\n",
    "# amount of fuel total of energy * pp_consumption\n",
    "pp_fuel = Total_MWh * pp_consumption\n",
    "print(\"Total of diesel fuel needed for power plant to generate all the energy for electric vehicle: \" f'{pp_fuel:3e}', 'l')"
   ],
   "metadata": {
    "collapsed": false,
    "pycharm": {
     "name": "#%%\n"
    }
   }
  },
  {
   "cell_type": "code",
   "execution_count": 119,
   "outputs": [
    {
     "name": "stdout",
     "output_type": "stream",
     "text": [
      "Total diesel fuel consumption for vehicle:  3.502945e+10  l\n",
      "Total of diesel fuel needed for power plant to generate all the energy for electric vehicle: 7.527141e+09 l\n",
      "Difference of fuel =  2.750231e+10 l\n",
      "78.51196250001162\n"
     ]
    }
   ],
   "source": [
    "# difference with viec system\n",
    "print( \"Total diesel fuel consumption for vehicle: \", f'{Tot_fuel:2e}', ' l')\n",
    "print(\"Total of diesel fuel needed for power plant to generate all the energy for electric vehicle: \" f'{pp_fuel:3e}', 'l')\n",
    "\n",
    "\n",
    "Delta_fuel = np.around (Tot_fuel - pp_fuel, 2)\n",
    "print('Difference of fuel = ', f'{Delta_fuel:3e}', 'l')\n",
    "eta = Delta_fuel / np.maximum(pp_fuel, Tot_fuel)\n",
    "eta_perc = eta * 100\n",
    "print(eta_perc)"
   ],
   "metadata": {
    "collapsed": false,
    "pycharm": {
     "name": "#%%\n"
    }
   }
  },
  {
   "cell_type": "code",
   "execution_count": null,
   "outputs": [],
   "source": [],
   "metadata": {
    "collapsed": false,
    "pycharm": {
     "name": "#%%\n"
    }
   }
  }
 ],
 "metadata": {
  "kernelspec": {
   "display_name": "Python 3",
   "language": "python",
   "name": "python3"
  },
  "language_info": {
   "codemirror_mode": {
    "name": "ipython",
    "version": 2
   },
   "file_extension": ".py",
   "mimetype": "text/x-python",
   "name": "python",
   "nbconvert_exporter": "python",
   "pygments_lexer": "ipython2",
   "version": "2.7.6"
  }
 },
 "nbformat": 4,
 "nbformat_minor": 0
}